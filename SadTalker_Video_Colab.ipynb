{
  "cells": [
    {
      "cell_type": "markdown",
      "source": [
        "# 此代码仅为演示SadTalker驱动视频数字人\n"
      ],
      "metadata": {
        "id": "ncjUdsIYOoXi"
      }
    },
    {
      "cell_type": "code",
      "source": [
        "#@title 检测显卡\n",
        "!nvidia-smi"
      ],
      "metadata": {
        "colab": {
          "base_uri": "https://localhost:8080/"
        },
        "id": "oO7bYjMoZoX-",
        "outputId": "e6b584e4-780c-416a-a9f1-501c71240060"
      },
      "execution_count": 1,
      "outputs": [
        {
          "output_type": "stream",
          "name": "stdout",
          "text": []
        }
      ]
    },
    {
      "cell_type": "code",
      "execution_count": 2,
      "metadata": {
        "id": "Qgo-oaI3JU2u",
        "colab": {
          "base_uri": "https://localhost:8080/"
        },
        "outputId": "99c0818b-36f4-4ba2-9da3-2c43f45d25a4"
      },
      "outputs": [
        {
          "output_type": "stream",
          "name": "stdout",
          "text": []
        }
      ],
      "source": [
        "#@title 一、下载源码并安装依赖\n",
        "!git clone https://github.com/zicang/SadTalker-Video-Lip-Sync"
      ]
    },
    {
      "cell_type": "code",
      "source": [
        "# 安装miniconda,安装虚拟环境，激活虚拟环境。\n",
        "# 如果已经下载，就可以不用再执行!wget\n",
        "%cd /content/SadTalker-Video-Lip-Sync\n",
        "!wget https://repo.anaconda.com/miniconda/Miniconda3-py37_4.8.2-Linux-x86_64.sh\n",
        "!chmod +x Miniconda3-py37_4.8.2-Linux-x86_64.sh\n",
        "!bash ./Miniconda3-py37_4.8.2-Linux-x86_64.sh -b -f -p /usr/local\n",
        "# 设置包\n",
        "import sys\n",
        "sys.path.append('/usr/local/lib/python3.8/site-packages/')\n",
        "# 安装python=3.8 并检查python版本\n",
        "!conda install python=3.8 -y\n",
        "!python --version\n",
        "# 创建虚拟环境\n",
        "!conda create --name SadTalker-Video-Lip-Sync python=3.8 -y\n",
        "# 激活环境\n",
        "!source activate SadTalker-Video-Lip-Sync\n",
        "# 安装依赖\n",
        "%cd /content/SadTalker-Video-Lip-Sync\n",
        "!python3.8 -m pip install torch==1.12.1+cu113 torchvision==0.13.1+cu113 torchaudio==0.12.1 --extra-index-url https://download.pytorch.org/whl/cu113\n",
        "!pip install ffmpeg\n",
        "!python3.8 -m pip install -r requirements.txt\n",
        "!pip install ninja\n",
        "# 安装DAIN模型\n",
        "!python -m pip install paddlepaddle-gpu==2.3.2.post112  \\\n",
        "-f https://www.paddlepaddle.org.cn/whl/linux/mkl/avx/stable.html"
      ],
      "metadata": {
        "id": "rpa5nWB4wdr7",
        "colab": {
          "base_uri": "https://localhost:8080/"
        },
        "outputId": "b7e4b408-1263-4e9f-fa82-027d8494da97"
      },
      "execution_count": null,
      "outputs": [
        {
          "output_type": "stream",
          "name": "stdout",
          "text": [ ]
        }
      ]
    },
    {
      "cell_type": "code",
      "source": [
        "#@title 二、下载模型和数据\n",
        "# 已经从云盘复制了文件夹过来就不需要运行\n",
        "%cd /content/SadTalker-Video-Lip-Sync\n",
        "!gdown https://drive.google.com/uc\\?id\\=1TB0QWxiGtagEbdwDIpIVeQftKtDBj8Q5\n",
        "!rm -rf checkpoints\n",
        "!unzip checkpoints.zip\n",
        "!rm checkpoints.zip"
      ],
      "metadata": {
        "id": "a0gVJczV65uz"
      },
      "execution_count": null,
      "outputs": []
    },
    {
      "cell_type": "code",
      "execution_count": null,
      "metadata": {
        "id": "vsphzJawLF-f"
      },
      "outputs": [],
      "source": [
        "#@title 三、上传视频\n",
        "%cd /content/SadTalker-Video-Lip-Sync/examples/driven_video\n",
        "from google.colab import files\n",
        "from io import BytesIO\n",
        "uploaded = files.upload()"
      ]
    },
    {
      "cell_type": "code",
      "source": [
        "#@title 四、上传音频\n",
        "%cd /content/SadTalker-Video-Lip-Sync/examples/driven_audio\n",
        "from google.colab import files\n",
        "from io import BytesIO\n",
        "uploaded = files.upload()"
      ],
      "metadata": {
        "id": "CJg3j-TybqJ2"
      },
      "execution_count": null,
      "outputs": []
    },
    {
      "cell_type": "code",
      "source": [
        "#@title 五、进行推理\n",
        "# 运行报错后，代码中将/content/SadTalker-Video-Lip-Sync/src/face3d/extract_kp_videos.py 第16行_2D 改为TWO_D\n",
        "%cd /content/SadTalker-Video-Lip-Sync\n",
        "!python inference.py --driven_audio '/content/SadTalker-Video-Lip-Sync/examples/driven_audio/888.wav' \\\n",
        "            --source_video '/content/SadTalker-Video-Lip-Sync/examples/driven_video/888.mp4' \\\n",
        "            --enhancer 'lip' \\\n",
        "            --use_DAIN  \\\n",
        "              --time_step '0.5'\n",
        "\n",
        "print('恭喜您高清数字人视频合并成功，结果在results中。')"
      ],
      "metadata": {
        "id": "tfXGjVvlxRVS"
      },
      "execution_count": null,
      "outputs": []
    }
  ],
  "metadata": {
    "accelerator": "GPU",
    "colab": {
      "provenance": [],
      "gpuType": "T4"
    },
    "kernelspec": {
      "display_name": "Python 3",
      "name": "python3"
    }
  },
  "nbformat": 4,
  "nbformat_minor": 0
}
